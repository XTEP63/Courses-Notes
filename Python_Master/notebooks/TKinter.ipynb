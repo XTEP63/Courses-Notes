{
 "cells": [
  {
   "cell_type": "markdown",
   "metadata": {},
   "source": [
    "# Tkinter"
   ]
  },
  {
   "cell_type": "markdown",
   "metadata": {},
   "source": [
    "***\n",
    "### Raiz\n",
    "\n",
    "***Incialisamos con el comando de configuracion de raiz***  \n",
    "root = TK() **Inicializa la ventana**  \n",
    "root.title(\"Hola mundo) **Sirve para cambiar el titulo de la venta**  \n",
    "root.rezible(1,1) **Permite decir si es la venta se puede redimencionar en ancho y alto, los 1 son true, los 0 son false**  \n",
    "root.icombitmap(\"Hola.ico)  **Nos perimte darle un ico distinto a nuestra ventana**  \n",
    "root.config(bg = blue) **Nos permite manerjar distintos atributos de la raiz**"
   ]
  },
  {
   "cell_type": "code",
   "execution_count": null,
   "metadata": {},
   "outputs": [],
   "source": [
    "from tkinter import *\n",
    "\n",
    "root = Tk()\n",
    "root.title(\"Hola mundo\")\n",
    "root.resizable(1,1)\n",
    "#root.icombitmap(\"Hola.ico\")  En este caso no cambio el icono"
   ]
  },
  {
   "cell_type": "markdown",
   "metadata": {},
   "source": [
    "***\n",
    "### Frame\n",
    "\n",
    "***Creamos un frame o marco***  \n",
    "frame = Frame(root) **Creamos en una variable el frame y le tenemos que decir en que ventana esta en este caso es root**    \n",
    "frame.pack() **Ahora tenemos que empaquetarlo y distribuirlo en la venta**  \n",
    "frame.config(width = 480, height = 320) **Esto nos permite configurar distintos atributos del frame**  \n",
    "***Nota:*** Existen diferentes atributos cono el cursor que sirve para cambiar el cursor dentro de ese frame, o el bg que nos permite cambiar el color de fondo   \n",
    "**Todos los atributos de config se puede asignar desde la creacion del frame**  \n"
   ]
  },
  {
   "cell_type": "code",
   "execution_count": null,
   "metadata": {},
   "outputs": [],
   "source": [
    "frame = Frame(root)\n",
    "frame.pack()\n",
    "frame.config(width = 480, height = 320)"
   ]
  },
  {
   "cell_type": "markdown",
   "metadata": {},
   "source": [
    "***\n",
    "### Label \n",
    "\n",
    "***Con las etiquetas podemos escribir distintos textos o incluso imagenes***  \n",
    "label = Label(frame, text = \"Hola Mundo\") **Creamos la label y le decimos que va a estar dentro del frame**  \n",
    "label.place(x=0, y=0) **Con esto desplegamos la label dentro del frame**  \n",
    "label.config() **Label tambien cuenta con un su manejador de atributos 'config´**  \n",
    "texto = StringVar() **Con esto podemos hacer que le texto de una etiqueta sea variable ya que con el podemos campurar textos**\n"
   ]
  },
  {
   "cell_type": "code",
   "execution_count": null,
   "metadata": {},
   "outputs": [],
   "source": [
    "label = Label(frame, text = \"hola mundo\")\n",
    "label.place(x=0, y=0) \n",
    "label.config()"
   ]
  },
  {
   "cell_type": "markdown",
   "metadata": {},
   "source": [
    "***\n",
    "### Entry \n",
    "\n",
    "***De manera normal se usan para que el usuario haga entradas de datos***  \n",
    "entry = Entry(root) **Creamos la entrada de datos y le decimos que estara en la raiz**  \n",
    "entry.pack() **La desplegamos dentro de root**  \n",
    "entry.config() **Tambien cuenta con el manejador de atributos config**  "
   ]
  },
  {
   "cell_type": "code",
   "execution_count": null,
   "metadata": {},
   "outputs": [],
   "source": [
    "entry = Entry(root)\n",
    "entry.pack()\n",
    "entry.config()\n",
    "\n",
    "n1 = StringVar()\n",
    "\n",
    "Entry(root, textvariable=n1).pack() # En esta entrada de datos estamos tomando los datos desde una string var"
   ]
  },
  {
   "cell_type": "markdown",
   "metadata": {},
   "source": [
    "***\n",
    "### Text\n",
    "\n",
    "***Estos suelen ser usa mas para textos largos (textos de multiples lineas) ademas de que en estos podemos escribir desde la interface; a diferencia de las labels que son mas usadas para cosas mas cortas y concretas***  \n",
    "\n",
    "texto = Text(root) **Creamos el campo de texto**  \n",
    "texto.pack() **Desplegamos el campo en root**  \n",
    "texto.config() **Tambien cuenta con el manejador de atributos config, pero adiferencia el alto y ancho no funcionan con pixeles sino con numero de caracteres**\n"
   ]
  },
  {
   "cell_type": "code",
   "execution_count": null,
   "metadata": {},
   "outputs": [],
   "source": [
    "texto = Text()\n",
    "texto.pack()\n",
    "texto.config()"
   ]
  },
  {
   "cell_type": "markdown",
   "metadata": {},
   "source": [
    "***\n",
    "### Botones\n",
    "\n",
    "***Los botones son simplemente botones***\n",
    "\n",
    "Button(root, text = \"Haz Click\", command = funcion).pack() **De esta manera creamos el boton y al mismo tiempo lo despleglamos; el atributo de command nos permite pasarle una funcion que se ejecutara al darle click**\n",
    "\n",
    "\n"
   ]
  },
  {
   "cell_type": "code",
   "execution_count": null,
   "metadata": {},
   "outputs": [],
   "source": [
    "def hola_mundo():\n",
    "    print(\"Hola mundo\")\n",
    "\n",
    "Button(root, text = \"Haz Click\", command = hola_mundo).pack()"
   ]
  },
  {
   "cell_type": "markdown",
   "metadata": {},
   "source": [
    "***\n",
    "### Botones radiales \n",
    "\n",
    "***Se utilizan para ofrecer al usuario una seria de opciones de donde podra seleccionar una***\n",
    "\n",
    "Radiobutton(root, text=\"Opcion 1\").pack **Creamo y deplegamos el boton**  "
   ]
  },
  {
   "cell_type": "code",
   "execution_count": null,
   "metadata": {},
   "outputs": [],
   "source": [
    "Opcion = IntVar()\n",
    "\n",
    "Radiobutton(root,text=\"opcion 1\",variable=Opcion, value=1). pack()\n",
    "Radiobutton(root,text=\"opcion 2\", variable=Opcion, value=2). pack()\n",
    "Radiobutton(root,text=\"opcion 3\", variable=Opcion, value=3). pack()\n",
    "\n",
    "#De esta manera hacemos que con estos botones una misma variable pueda tomar distintos valores segun cual opcion se selecciones"
   ]
  },
  {
   "cell_type": "markdown",
   "metadata": {},
   "source": [
    "***\n",
    "### Botones de selecion \n",
    "\n",
    "***Con los botones de selecion podremos darle al usuario una seria de opciones para que puede seleccionar varias***\n",
    "\n",
    "Checkbutton(root,text=\"Con leche\", variable=leche).pack() **Creamos y desplegamos el boton de selecion**\n"
   ]
  },
  {
   "cell_type": "code",
   "execution_count": null,
   "metadata": {},
   "outputs": [],
   "source": [
    "leche = IntVar() # 1 si, 0 no\n",
    "\n",
    "Checkbutton(root,text=\"Con leche\", variable=leche, onvalue= 1 , offrelief= 0).pack()"
   ]
  },
  {
   "cell_type": "markdown",
   "metadata": {},
   "source": [
    "***\n",
    "### Menus \n",
    "\n",
    "***Son botones de menu***\n",
    "\n",
    "menubar = Menu(root) **Creamos el menu principal**\n",
    "root.config(menu= menubar) **Esta es la menera de desplegar el menu, aqui no sepuede con pack**  \n",
    "\n",
    "filemenu = Menu(menubar,tearoff = 0)   \n",
    "filemenu.add_command(Label = \"Nuevo\")  \n",
    "editmenu = Menu(menubar,tearoff = 0)  **Aqui creamos los sub menus y ademas de eso ponemos en el primer menu unas opciones**  \n",
    "helpmenu = Menu(menubar,tearoff = 0)  \n",
    "\n",
    "menubar.add_cascade(label = \"Archivo\", menu = filemenu) **Agregamos al primer menu todas las opciones de los sub menus**\n",
    "\n",
    "\n"
   ]
  },
  {
   "cell_type": "code",
   "execution_count": null,
   "metadata": {},
   "outputs": [],
   "source": [
    "menubar = Menu(root)\n",
    "root.config(menu= menubar)\n",
    "\n",
    "filemenu = Menu(menubar,tearoff = 0)   \n",
    "filemenu.add_command(Label = \"Nuevo\")  \n",
    "editmenu = Menu(menubar,tearoff = 0)\n",
    "helpmenu = Menu(menubar,tearoff = 0)  \n",
    "\n",
    "menubar.add_cascade(label = \"Archivo\", menu = filemenu) "
   ]
  },
  {
   "cell_type": "markdown",
   "metadata": {},
   "source": [
    "***\n",
    "### Ventanas Emergente\n",
    "\n",
    "***Estas son ventanas que podemos desplegar en la pantalla para mostar alertas o mensajes***\n",
    "\n",
    "from tkinter import messagebox **Eto se tiene que hacer dado que estas ventanas no viene tal cual en tkinter**  \n",
    "messagebox.showinfo(\"Hola\", \"Hola mundo\")\n",
    "\n",
    " **AL usarlas primero llamamos al modulo que importamos y despues ponemos un showinfo, showwarning, aksquestion etc., ademas recibe dos parametro donde el primero es el titulo de la ventana y el segundo el mensaje a mostrar**  "
   ]
  },
  {
   "cell_type": "code",
   "execution_count": null,
   "metadata": {},
   "outputs": [],
   "source": [
    "from tkinter import messagebox \n",
    "messagebox.showinfo(\"Hola\", \"Hola mundo\")"
   ]
  },
  {
   "cell_type": "markdown",
   "metadata": {},
   "source": [
    "***Funciones avanzadas***\n",
    "\n",
    "Dentro de las funciones avanzadas de estas vetanas tenemos por ejemplo un colorchooser o filedialog el cual para poder utilizarlo hay que importarlo de la misma manera que las messaboxy al igual que estas tienen sus propios parametros"
   ]
  },
  {
   "cell_type": "markdown",
   "metadata": {},
   "source": [
    "***\n",
    "### mainloop\n",
    "\n",
    "***Finalizacion de la aplicacion***\n",
    "\n",
    "root.mainloop() **finalizamos la app**"
   ]
  },
  {
   "cell_type": "code",
   "execution_count": null,
   "metadata": {},
   "outputs": [],
   "source": [
    "root.mainloop() "
   ]
  }
 ],
 "metadata": {
  "kernelspec": {
   "display_name": "Cursos",
   "language": "python",
   "name": "python3"
  },
  "language_info": {
   "codemirror_mode": {
    "name": "ipython",
    "version": 3
   },
   "file_extension": ".py",
   "mimetype": "text/x-python",
   "name": "python",
   "nbconvert_exporter": "python",
   "pygments_lexer": "ipython3",
   "version": "3.10.13"
  },
  "orig_nbformat": 4
 },
 "nbformat": 4,
 "nbformat_minor": 2
}
