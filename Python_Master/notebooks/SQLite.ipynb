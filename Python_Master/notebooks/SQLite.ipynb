{
 "cells": [
  {
   "cell_type": "markdown",
   "metadata": {},
   "source": [
    "# SQLite"
   ]
  },
  {
   "cell_type": "markdown",
   "metadata": {},
   "source": [
    "***\n",
    "### Conexion, cursor y consultas basicas \n",
    "\n",
    "import sqlite3 **Importamos el modulo sqlite3**  \n",
    "\n",
    "conexion = sqlite3.connect(\"Ejemplo.db\") **Establecemos una conexion con la base de datos y si no existe se crea**  \n",
    "\n",
    "cursor = conexion.cursor() **Conectamos el cursor co la base de datos ya que co este manejaremos todo**  \n",
    "\n",
    "***Lo que se encuentra adentro del parametro de ejecucion esta e lenguaje SQL***  \n",
    "cursor.execute(\"CREATE TABLE users (nombre VARCHAR(100), edad INTEGER, email VARCHAR(100))\")  \n",
    "**Creamos una tabla en la base de datos; para crearla no tiene que existir previamente en la base de dato**  \n",
    "cursor.execute(\"INSERT INTO users VALUES ('Esteban', 20, 'estb@gmail.com')\")  \n",
    "**De esta manera podemos agregar campos a la tabla**  \n",
    "\n",
    "cursor.execute(\"SELECT * FROM users\") **Le decimos al cursor que seleccione todo lo de esa tabla**  \n",
    "\n",
    "usurio = cursor.fetchall() **De esta manera recuperamos todos los registros seleccionados, y nos devueltos a manera de una lista de tuplas**  \n",
    "\n",
    "\n",
    "usuarios = [\n",
    "    (\"Giselle\", 20, \"giselle@gmail.com\"),\n",
    "    (\"Eli\", 20, \"eli@gmail.com\"),\n",
    "    (\"Santiago\", 20, \"santiago@gmail\")\n",
    "]\n",
    "\n",
    "cursor.executemany(\"INSERT INTO users VALUES(?, ?, ?)\", usuarios) **Insetamos registros de maera masiva a la tabla**  \n",
    "\n",
    "conexion.commit() **Confimamos los cambios para que puedan ser realizados**  \n",
    "conexion.close() **Finalizamos la conexion**  \n"
   ]
  },
  {
   "cell_type": "code",
   "execution_count": 1,
   "metadata": {},
   "outputs": [],
   "source": [
    "import sqlite3\n",
    "\n",
    "conexion = sqlite3.connect(\"Ejemplo.db\")\n",
    "\n",
    "cursor = conexion.cursor()\n",
    "#cursor.execute(\"CREATE TABLE users (nombre VARCHAR(100), edad INTEGER, email VARCHAR(100))\")\n",
    "#cursor.execute(\"INSERT INTO users VALUES ('Esteban', 20, 'estb@gmail.com')\")\n",
    "\n",
    "#cursor.execute(\"SELECT * FROM users\")\n",
    "\n",
    "#usurio = cursor.fetchall()\n",
    "\n",
    "\n",
    "usuarios = [\n",
    "    (\"Giselle\", 20, \"giselle@gmail.com\"),\n",
    "    (\"Eli\", 20, \"eli@gmail.com\"),\n",
    "    (\"Santiago\", 20, \"santiago@gmail\")\n",
    "]\n",
    "\n",
    "cursor.executemany(\"INSERT INTO users VALUES(?, ?, ?)\", usuarios)\n",
    "\n",
    "conexion.commit()\n",
    "conexion.close()\n",
    "\n"
   ]
  },
  {
   "cell_type": "markdown",
   "metadata": {},
   "source": [
    "***\n",
    "### Claves primarias\n",
    "\n",
    "cursor.execute('''   \n",
    "    CREATE TABLE users(  \n",
    "        dni VARCHAR(9) PRIMARY KEY,  \n",
    "        nombre VARCHAR(100),  \n",
    "        edad INTEGER,  \n",
    "        email VARCHAR(100)  \n",
    "    )  \n",
    "    ''')  \n",
    "\n",
    "**Al establecer el campo de dni como clave primaria quiere decir que en la tabla no puede haber otro registro con el mismo valor en este campo**  \n",
    "\n",
    "cursor.executemany(\"INSERT INTO usuarios VALUES(?,?,?,?)\", usuarios) **Si intentamos agrerar usuarios con un mismo dni daria error**  "
   ]
  },
  {
   "cell_type": "code",
   "execution_count": 2,
   "metadata": {},
   "outputs": [
    {
     "ename": "IntegrityError",
     "evalue": "UNIQUE constraint failed: users.dni",
     "output_type": "error",
     "traceback": [
      "\u001b[1;31m---------------------------------------------------------------------------\u001b[0m",
      "\u001b[1;31mIntegrityError\u001b[0m                            Traceback (most recent call last)",
      "Cell \u001b[1;32mIn[2], line 22\u001b[0m\n\u001b[0;32m      6\u001b[0m \u001b[38;5;66;03m# cursor.execute(''' \u001b[39;00m\n\u001b[0;32m      7\u001b[0m \u001b[38;5;66;03m#     CREATE TABLE users(\u001b[39;00m\n\u001b[0;32m      8\u001b[0m \u001b[38;5;66;03m#         dni VARCHAR(9) PRIMARY KEY,\u001b[39;00m\n\u001b[1;32m   (...)\u001b[0m\n\u001b[0;32m     12\u001b[0m \u001b[38;5;66;03m#     )\u001b[39;00m\n\u001b[0;32m     13\u001b[0m \u001b[38;5;66;03m#     ''')\u001b[39;00m\n\u001b[0;32m     15\u001b[0m usuarios \u001b[38;5;241m=\u001b[39m [\n\u001b[0;32m     16\u001b[0m     (\u001b[38;5;124m\"\u001b[39m\u001b[38;5;124m01\u001b[39m\u001b[38;5;124m\"\u001b[39m,\u001b[38;5;124m\"\u001b[39m\u001b[38;5;124mEstebann\u001b[39m\u001b[38;5;124m\"\u001b[39m, \u001b[38;5;241m20\u001b[39m, \u001b[38;5;124m\"\u001b[39m\u001b[38;5;124mesteban@gamil,com\u001b[39m\u001b[38;5;124m\"\u001b[39m),\n\u001b[0;32m     17\u001b[0m     (\u001b[38;5;124m\"\u001b[39m\u001b[38;5;124m02\u001b[39m\u001b[38;5;124m\"\u001b[39m,\u001b[38;5;124m\"\u001b[39m\u001b[38;5;124mGiselle\u001b[39m\u001b[38;5;124m\"\u001b[39m, \u001b[38;5;241m20\u001b[39m, \u001b[38;5;124m\"\u001b[39m\u001b[38;5;124mgiselle@gmail.com\u001b[39m\u001b[38;5;124m\"\u001b[39m),\n\u001b[0;32m     18\u001b[0m     (\u001b[38;5;124m\"\u001b[39m\u001b[38;5;124m03\u001b[39m\u001b[38;5;124m\"\u001b[39m,\u001b[38;5;124m\"\u001b[39m\u001b[38;5;124mEli\u001b[39m\u001b[38;5;124m\"\u001b[39m, \u001b[38;5;241m20\u001b[39m, \u001b[38;5;124m\"\u001b[39m\u001b[38;5;124meli@gmail.com\u001b[39m\u001b[38;5;124m\"\u001b[39m),\n\u001b[0;32m     19\u001b[0m     (\u001b[38;5;124m\"\u001b[39m\u001b[38;5;124m04\u001b[39m\u001b[38;5;124m\"\u001b[39m,\u001b[38;5;124m\"\u001b[39m\u001b[38;5;124mSantiago\u001b[39m\u001b[38;5;124m\"\u001b[39m, \u001b[38;5;241m19\u001b[39m, \u001b[38;5;124m\"\u001b[39m\u001b[38;5;124msantiago@gmail.com\u001b[39m\u001b[38;5;124m\"\u001b[39m)\n\u001b[0;32m     20\u001b[0m ]\n\u001b[1;32m---> 22\u001b[0m \u001b[43mcursor\u001b[49m\u001b[38;5;241;43m.\u001b[39;49m\u001b[43mexecutemany\u001b[49m\u001b[43m(\u001b[49m\u001b[38;5;124;43m\"\u001b[39;49m\u001b[38;5;124;43mINSERT INTO users VALUES(?,?,?,?)\u001b[39;49m\u001b[38;5;124;43m\"\u001b[39;49m\u001b[43m,\u001b[49m\u001b[43m \u001b[49m\u001b[43musuarios\u001b[49m\u001b[43m)\u001b[49m\n\u001b[0;32m     24\u001b[0m conexion\u001b[38;5;241m.\u001b[39mcommit()\n\u001b[0;32m     25\u001b[0m conexion\u001b[38;5;241m.\u001b[39mclose()\n",
      "\u001b[1;31mIntegrityError\u001b[0m: UNIQUE constraint failed: users.dni"
     ]
    }
   ],
   "source": [
    "import sqlite3\n",
    "\n",
    "conexion = sqlite3.connect(\"usuarios.db\")\n",
    "cursor = conexion.cursor()\n",
    "\n",
    "# cursor.execute(''' \n",
    "#     CREATE TABLE users(\n",
    "#         dni VARCHAR(9) PRIMARY KEY,\n",
    "#         nombre VARCHAR(100),\n",
    "#         edad INTEGER,\n",
    "#         email VARCHAR(100)\n",
    "#     )\n",
    "#     ''')\n",
    "\n",
    "usuarios = [\n",
    "    (\"01\",\"Estebann\", 20, \"esteban@gamil,com\"),\n",
    "    (\"02\",\"Giselle\", 20, \"giselle@gmail.com\"),\n",
    "    (\"03\",\"Eli\", 20, \"eli@gmail.com\"),\n",
    "    (\"04\",\"Santiago\", 19, \"santiago@gmail.com\")\n",
    "]\n",
    "\n",
    "cursor.executemany(\"INSERT INTO users VALUES(?,?,?,?)\", usuarios)\n",
    "\n",
    "conexion.commit()\n",
    "conexion.close()\n",
    "\n"
   ]
  },
  {
   "cell_type": "markdown",
   "metadata": {},
   "source": [
    "***\n",
    "### Campos autoincrementables\n",
    "\n",
    "cursor.execute('''  \n",
    "    CREATE TABLE productos (  \n",
    "        id INTEGER PRIMARY KEY AUTOINCREMENT,    \n",
    "        nombre VARCHAR(100) NOT NULL,  \n",
    "        marca VARCHAR(50) NOT NULL,  \n",
    "        precio FLOAT NOT NULL  \n",
    "    )  \n",
    "    ''')  \n",
    "\n",
    "**Al usar el AUTOINCREMENT lo que hacemos es crear un campo que por si solo se ira incrementando cada ves que se agrege a la tabla un elemento nuevo**  \n",
    "\n",
    "cursor.executemany(\"INSERT INTO productos VALUES (null,?,?,?)\", productos)  \n",
    "\n",
    "**Para poder pasarle varios productos para agregar a la tabla hay que pasar el primer valor como null dado que este valor no lo leera si no que en automatico lo autoincrementara**  \n",
    "\n",
    "cursor.execute(\"SELECT * FROM productos\") **Seleccionamos toda la tabla**\n",
    "productos = cursor.fetchall()  **Pasamso toda la tabla a una variable donde quedara como una lista de tuplas, siendo cada tupla un objeto de la tabla**  \n",
    "for i in productos:  \n",
    "    print(i)  "
   ]
  },
  {
   "cell_type": "code",
   "execution_count": 4,
   "metadata": {},
   "outputs": [
    {
     "name": "stdout",
     "output_type": "stream",
     "text": [
      "(1, 'Teclado', 'Logitech', 19.99)\n",
      "(2, 'Pantalla', 'LG', 99.99)\n",
      "(3, 'A54', 'Samsung', 100.99)\n"
     ]
    }
   ],
   "source": [
    "import sqlite3\n",
    "\n",
    "conexion = sqlite3.connect(\"Productos.db\")\n",
    "cursor = conexion.cursor()\n",
    "\n",
    "# cursor.execute('''\n",
    "#     CREATE TABLE productos (\n",
    "#         id INTEGER PRIMARY KEY AUTOINCREMENT, \n",
    "#         nombre VARCHAR(100) NOT NULL,\n",
    "#         marca VARCHAR(50) NOT NULL,\n",
    "#         precio FLOAT NOT NULL\n",
    "#     )\n",
    "#     ''')\n",
    "\n",
    "# productos = [\n",
    "#     (\"Teclado\",\"Logitech\", 19.99),\n",
    "#     (\"Pantalla\",\"LG\", 99.99),\n",
    "#     (\"A54\",\"Samsung\", 100.99),\n",
    "# ]  \n",
    "\n",
    "#cursor.executemany(\"INSERT INTO productos VALUES (null,?,?,?)\", productos)\n",
    "\n",
    "cursor.execute(\"SELECT * FROM productos\")\n",
    "productos = cursor.fetchall()\n",
    "for i in productos: \n",
    "    print(i)\n",
    "\n",
    "conexion.commit()\n",
    "conexion.close()\n"
   ]
  },
  {
   "cell_type": "markdown",
   "metadata": {},
   "source": [
    "***\n",
    "### Claves unicas"
   ]
  }
 ],
 "metadata": {
  "kernelspec": {
   "display_name": "Cursos",
   "language": "python",
   "name": "python3"
  },
  "language_info": {
   "codemirror_mode": {
    "name": "ipython",
    "version": 3
   },
   "file_extension": ".py",
   "mimetype": "text/x-python",
   "name": "python",
   "nbconvert_exporter": "python",
   "pygments_lexer": "ipython3",
   "version": "3.10.13"
  }
 },
 "nbformat": 4,
 "nbformat_minor": 2
}
