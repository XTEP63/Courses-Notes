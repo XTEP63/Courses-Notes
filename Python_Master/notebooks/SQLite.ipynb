{
 "cells": [
  {
   "cell_type": "markdown",
   "metadata": {},
   "source": [
    "# SQLite"
   ]
  },
  {
   "cell_type": "markdown",
   "metadata": {},
   "source": [
    "***\n",
    "### Conexion, cursor y consultas basicas \n",
    "\n",
    "import sqlite3 **Importamos el modulo sqlite3**  \n",
    "\n",
    "conexion = sqlite3.connect(\"Ejemplo.db\") **Establecemos una conexion con la base de datos y si no existe se crea**  \n",
    "\n",
    "cursor = conexion.cursor() **Conectamos el cursor co la base de datos ya que co este manejaremos todo**  \n",
    "\n",
    "***Lo que se encuentra adentro del parametro de ejecucion esta e lenguaje SQL***  \n",
    "cursor.execute(\"CREATE TABLE users (nombre VARCHAR(100), edad INTEGER, email VARCHAR(100))\")  \n",
    "**Creamos una tabla en la base de datos; para crearla no tiene que existir previamente en la base de dato**  \n",
    "cursor.execute(\"INSERT INTO users VALUES ('Esteban', 20, 'estb@gmail.com')\")  \n",
    "**De esta manera podemos agregar campos a la tabla**  \n",
    "\n",
    "cursor.execute(\"SELECT * FROM users\") **Le decimos al cursor que seleccione todo lo de esa tabla**  \n",
    "\n",
    "usurio = cursor.fetchall() **De esta manera recuperamos todos los registros seleccionados, y nos devueltos a manera de una lista de tuplas**  \n",
    "\n",
    "\n",
    "usuarios = [\n",
    "    (\"Giselle\", 20, \"giselle@gmail.com\"),\n",
    "    (\"Eli\", 20, \"eli@gmail.com\"),\n",
    "    (\"Santiago\", 20, \"santiago@gmail\")\n",
    "]\n",
    "\n",
    "cursor.executemany(\"INSERT INTO users VALUES(?, ?, ?)\", usuarios) **Insetamos registros de maera masiva a la tabla**  \n",
    "\n",
    "conexion.commit() **Confimamos los cambios para que puedan ser realizados**\n",
    "conexion.close() **Finalizamos la conexion**\n"
   ]
  },
  {
   "cell_type": "code",
   "execution_count": 7,
   "metadata": {},
   "outputs": [],
   "source": [
    "import sqlite3\n",
    "\n",
    "conexion = sqlite3.connect(\"Ejemplo.db\")\n",
    "\n",
    "cursor = conexion.cursor()\n",
    "#cursor.execute(\"CREATE TABLE users (nombre VARCHAR(100), edad INTEGER, email VARCHAR(100))\")\n",
    "#cursor.execute(\"INSERT INTO users VALUES ('Esteban', 20, 'estb@gmail.com')\")\n",
    "\n",
    "#cursor.execute(\"SELECT * FROM users\")\n",
    "\n",
    "#usurio = cursor.fetchall()\n",
    "\n",
    "\n",
    "usuarios = [\n",
    "    (\"Giselle\", 20, \"giselle@gmail.com\"),\n",
    "    (\"Eli\", 20, \"eli@gmail.com\"),\n",
    "    (\"Santiago\", 20, \"santiago@gmail\")\n",
    "]\n",
    "\n",
    "cursor.executemany(\"INSERT INTO users VALUES(?, ?, ?)\", usuarios)\n",
    "\n",
    "conexion.commit()\n",
    "conexion.close()\n",
    "\n"
   ]
  },
  {
   "cell_type": "markdown",
   "metadata": {},
   "source": [
    "***\n",
    "### Claves primarias, campos autoincrementables y claves unicas\n",
    "\n"
   ]
  },
  {
   "cell_type": "markdown",
   "metadata": {},
   "source": [
    "cursor.execute('''   \n",
    "    CREATE TABLE users(  \n",
    "        dni VARCHAR(9) PRIMARY KEY, **Al establecer este campo como clave primaria quiere decir que en la tabla no puede haber otro registro con el mismo valor en este campo**  \n",
    "        nombre VARCHAR(100),  \n",
    "        edad INTEGER,  \n",
    "        email VARCHAR(100)  \n",
    "    )  \n",
    "    ''')  \n",
    "\n",
    "cursor.executemany(\"INSERT INTO usuarios VALUES(?,?,?,?)\", usuarios) **Si intentamos agrerar usuarios con un mismo dni daria error**  "
   ]
  },
  {
   "cell_type": "code",
   "execution_count": 2,
   "metadata": {},
   "outputs": [
    {
     "ename": "OperationalError",
     "evalue": "table users already exists",
     "output_type": "error",
     "traceback": [
      "\u001b[1;31m---------------------------------------------------------------------------\u001b[0m",
      "\u001b[1;31mOperationalError\u001b[0m                          Traceback (most recent call last)",
      "Cell \u001b[1;32mIn[2], line 6\u001b[0m\n\u001b[0;32m      3\u001b[0m conexion \u001b[38;5;241m=\u001b[39m sqlite3\u001b[38;5;241m.\u001b[39mconnect(\u001b[38;5;124m\"\u001b[39m\u001b[38;5;124musuarios.db\u001b[39m\u001b[38;5;124m\"\u001b[39m)\n\u001b[0;32m      4\u001b[0m cursor \u001b[38;5;241m=\u001b[39m conexion\u001b[38;5;241m.\u001b[39mcursor()\n\u001b[1;32m----> 6\u001b[0m \u001b[43mcursor\u001b[49m\u001b[38;5;241;43m.\u001b[39;49m\u001b[43mexecute\u001b[49m\u001b[43m(\u001b[49m\u001b[38;5;124;43m'''\u001b[39;49m\u001b[38;5;124;43m \u001b[39;49m\n\u001b[0;32m      7\u001b[0m \u001b[38;5;124;43m    CREATE TABLE users(\u001b[39;49m\n\u001b[0;32m      8\u001b[0m \u001b[38;5;124;43m        dni VARCHAR(9) PRIMARY KEY,\u001b[39;49m\n\u001b[0;32m      9\u001b[0m \u001b[38;5;124;43m        nombre VARCHAR(100),\u001b[39;49m\n\u001b[0;32m     10\u001b[0m \u001b[38;5;124;43m        edad INTEGER,\u001b[39;49m\n\u001b[0;32m     11\u001b[0m \u001b[38;5;124;43m        email VARCHAR(100)\u001b[39;49m\n\u001b[0;32m     12\u001b[0m \u001b[38;5;124;43m    )\u001b[39;49m\n\u001b[0;32m     13\u001b[0m \u001b[38;5;124;43m    \u001b[39;49m\u001b[38;5;124;43m'''\u001b[39;49m\u001b[43m)\u001b[49m\n\u001b[0;32m     15\u001b[0m usuarios \u001b[38;5;241m=\u001b[39m [\n\u001b[0;32m     16\u001b[0m     (\u001b[38;5;124m\"\u001b[39m\u001b[38;5;124m01\u001b[39m\u001b[38;5;124m\"\u001b[39m,\u001b[38;5;124m\"\u001b[39m\u001b[38;5;124mEstebann\u001b[39m\u001b[38;5;124m\"\u001b[39m, \u001b[38;5;241m20\u001b[39m, \u001b[38;5;124m\"\u001b[39m\u001b[38;5;124mesteban@gamil,com\u001b[39m\u001b[38;5;124m\"\u001b[39m),\n\u001b[0;32m     17\u001b[0m     (\u001b[38;5;124m\"\u001b[39m\u001b[38;5;124m02\u001b[39m\u001b[38;5;124m\"\u001b[39m,\u001b[38;5;124m\"\u001b[39m\u001b[38;5;124mGiselle\u001b[39m\u001b[38;5;124m\"\u001b[39m, \u001b[38;5;241m20\u001b[39m, \u001b[38;5;124m\"\u001b[39m\u001b[38;5;124mgiselle@gmail.com\u001b[39m\u001b[38;5;124m\"\u001b[39m),\n\u001b[0;32m     18\u001b[0m     (\u001b[38;5;124m\"\u001b[39m\u001b[38;5;124m03\u001b[39m\u001b[38;5;124m\"\u001b[39m,\u001b[38;5;124m\"\u001b[39m\u001b[38;5;124mEli\u001b[39m\u001b[38;5;124m\"\u001b[39m, \u001b[38;5;241m20\u001b[39m, \u001b[38;5;124m\"\u001b[39m\u001b[38;5;124meli@gmail.com\u001b[39m\u001b[38;5;124m\"\u001b[39m),\n\u001b[0;32m     19\u001b[0m     (\u001b[38;5;124m\"\u001b[39m\u001b[38;5;124m04\u001b[39m\u001b[38;5;124m\"\u001b[39m,\u001b[38;5;124m\"\u001b[39m\u001b[38;5;124mSantiago\u001b[39m\u001b[38;5;124m\"\u001b[39m, \u001b[38;5;241m19\u001b[39m, \u001b[38;5;124m\"\u001b[39m\u001b[38;5;124msantiago@gmail.com\u001b[39m\u001b[38;5;124m\"\u001b[39m)\n\u001b[0;32m     20\u001b[0m ]\n\u001b[0;32m     22\u001b[0m cursor\u001b[38;5;241m.\u001b[39mexecutemany(\u001b[38;5;124m\"\u001b[39m\u001b[38;5;124mINSERT INTO usuarios VALUES(?,?,?,?)\u001b[39m\u001b[38;5;124m\"\u001b[39m, usuarios)\n",
      "\u001b[1;31mOperationalError\u001b[0m: table users already exists"
     ]
    }
   ],
   "source": [
    "import sqlite3\n",
    "\n",
    "conexion = sqlite3.connect(\"usuarios.db\")\n",
    "cursor = conexion.cursor()\n",
    "\n",
    "# cursor.execute(''' \n",
    "#     CREATE TABLE users(\n",
    "#         dni VARCHAR(9) PRIMARY KEY,\n",
    "#         nombre VARCHAR(100),\n",
    "#         edad INTEGER,\n",
    "#         email VARCHAR(100)\n",
    "#     )\n",
    "#     ''')\n",
    "\n",
    "usuarios = [\n",
    "    (\"01\",\"Estebann\", 20, \"esteban@gamil,com\"),\n",
    "    (\"02\",\"Giselle\", 20, \"giselle@gmail.com\"),\n",
    "    (\"03\",\"Eli\", 20, \"eli@gmail.com\"),\n",
    "    (\"04\",\"Santiago\", 19, \"santiago@gmail.com\")\n",
    "]\n",
    "\n",
    "cursor.executemany(\"INSERT INTO usuarios VALUES(?,?,?,?)\", usuarios)\n",
    "\n",
    "conexion.commit()\n",
    "conexion.close()\n",
    "\n"
   ]
  },
  {
   "cell_type": "markdown",
   "metadata": {},
   "source": []
  },
  {
   "cell_type": "code",
   "execution_count": null,
   "metadata": {},
   "outputs": [],
   "source": []
  }
 ],
 "metadata": {
  "kernelspec": {
   "display_name": "Cursos",
   "language": "python",
   "name": "python3"
  },
  "language_info": {
   "codemirror_mode": {
    "name": "ipython",
    "version": 3
   },
   "file_extension": ".py",
   "mimetype": "text/x-python",
   "name": "python",
   "nbconvert_exporter": "python",
   "pygments_lexer": "ipython3",
   "version": "3.10.13"
  }
 },
 "nbformat": 4,
 "nbformat_minor": 2
}
