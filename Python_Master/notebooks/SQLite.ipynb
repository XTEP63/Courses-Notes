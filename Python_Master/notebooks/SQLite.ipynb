{
 "cells": [
  {
   "cell_type": "markdown",
   "metadata": {},
   "source": [
    "# SQLite"
   ]
  },
  {
   "cell_type": "markdown",
   "metadata": {},
   "source": [
    "***\n",
    "### Conexion, cursor y consultas basicas \n",
    "\n",
    "import sqlite3 **Importamos el modulo sqlite3**  \n",
    "\n",
    "conexion = sqlite3.connect(\"Ejemplo.db\") **Establecemos una conexion con la base de datos y si no existe se crea**  \n",
    "\n",
    "cursor = conexion.cursor() **Conectamos el cursor co la base de datos ya que co este manejaremos todo**  \n",
    "\n",
    "***Lo que se encuentra adentro del parametro de ejecucion esta e lenguaje SQL***  \n",
    "cursor.execute(\"CREATE TABLE users (nombre VARCHAR(100), edad INTEGER, email VARCHAR(100))\")  \n",
    "**Creamos una tabla en la base de datos; para crearla no tiene que existir previamente en la base de dato**  \n",
    "cursor.execute(\"INSERT INTO users VALUES ('Esteban', 20, 'estb@gmail.com')\")  \n",
    "**De esta manera podemos agregar campos a la tabla**  \n",
    "\n",
    "cursor.execute(\"SELECT * FROM users\") **Le decimos al cursor que seleccione todo lo de esa tabla**  \n",
    "\n",
    "usurio = cursor.fetchall() **De esta manera recuperamos todos los registros seleccionados, y nos devueltos a manera de una lista de tuplas**  \n",
    "\n",
    "\n",
    "usuarios = [\n",
    "    (\"Giselle\", 20, \"giselle@gmail.com\"),\n",
    "    (\"Eli\", 20, \"eli@gmail.com\"),\n",
    "    (\"Santiago\", 20, \"santiago@gmail\")\n",
    "]\n",
    "\n",
    "cursor.executemany(\"INSERT INTO users VALUES(?, ?, ?)\", usuarios) **Insetamos registros de maera masiva a la tabla**  \n",
    "\n",
    "conexion.commit() **Confimamos los cambios para que puedan ser realizados**\n",
    "conexion.close() **Finalizamos la conexion**\n"
   ]
  },
  {
   "cell_type": "code",
   "execution_count": 7,
   "metadata": {},
   "outputs": [],
   "source": [
    "import sqlite3\n",
    "\n",
    "conexion = sqlite3.connect(\"Ejemplo.db\")\n",
    "\n",
    "cursor = conexion.cursor()\n",
    "#cursor.execute(\"CREATE TABLE users (nombre VARCHAR(100), edad INTEGER, email VARCHAR(100))\")\n",
    "#cursor.execute(\"INSERT INTO users VALUES ('Esteban', 20, 'estb@gmail.com')\")\n",
    "\n",
    "#cursor.execute(\"SELECT * FROM users\")\n",
    "\n",
    "#usurio = cursor.fetchall()\n",
    "\n",
    "\n",
    "usuarios = [\n",
    "    (\"Giselle\", 20, \"giselle@gmail.com\"),\n",
    "    (\"Eli\", 20, \"eli@gmail.com\"),\n",
    "    (\"Santiago\", 20, \"santiago@gmail\")\n",
    "]\n",
    "\n",
    "cursor.executemany(\"INSERT INTO users VALUES(?, ?, ?)\", usuarios)\n",
    "\n",
    "conexion.commit()\n",
    "conexion.close()\n",
    "\n"
   ]
  }
 ],
 "metadata": {
  "kernelspec": {
   "display_name": "Cursos",
   "language": "python",
   "name": "python3"
  },
  "language_info": {
   "codemirror_mode": {
    "name": "ipython",
    "version": 3
   },
   "file_extension": ".py",
   "mimetype": "text/x-python",
   "name": "python",
   "nbconvert_exporter": "python",
   "pygments_lexer": "ipython3",
   "version": "3.10.13"
  }
 },
 "nbformat": 4,
 "nbformat_minor": 2
}
